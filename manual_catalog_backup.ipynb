{
 "cells": [
  {
   "cell_type": "markdown",
   "id": "3e7ed3f8-b4b4-447f-ba0c-19f19373f5db",
   "metadata": {},
   "source": [
    "# Manual catalog backup in GCS"
   ]
  },
  {
   "cell_type": "code",
   "execution_count": 15,
   "id": "523cd6ba-45aa-4372-b37c-f73f5e9629fb",
   "metadata": {},
   "outputs": [],
   "source": [
    "import pandas as pd\n",
    "import json\n",
    "import gcsfs\n",
    "import os\n",
    "\n",
    "with open('/home/jovyan/keys/google_cmip6_service.json') as token_file:\n",
    "    token = json.load(token_file)\n",
    "\n",
    "gcs = gcsfs.GCSFileSystem(token=token)\n",
    "\n",
    "df = pd.read_csv(\"https://cmip6.storage.googleapis.com/pangeo-cmip6.csv\")\n",
    "\n",
    "local_filename = 'local_catalog.csv'\n",
    "backup_filename = 'old_manual_backup_pangeo-cmip6.csv'\n",
    "# create local file\n",
    "df.to_csv(local_filename, index=False)\n",
    "# upload that to the cloud\n",
    "gcs.put_file(local_filename, f'cmip6/{backup_filename}')\n",
    "# remove local file\n",
    "os.remove(local_filename)"
   ]
  },
  {
   "cell_type": "code",
   "execution_count": 16,
   "id": "89983ee9-b76f-493e-a859-b3177fa938de",
   "metadata": {},
   "outputs": [],
   "source": [
    "df_backup = pd.read_csv(f\"https://cmip6.storage.googleapis.com/{backup_filename}\")"
   ]
  },
  {
   "cell_type": "code",
   "execution_count": 17,
   "id": "4d5d88b5-5fbc-4e9c-914c-3616f9925385",
   "metadata": {},
   "outputs": [
    {
     "data": {
      "text/plain": [
       "True"
      ]
     },
     "execution_count": 17,
     "metadata": {},
     "output_type": "execute_result"
    }
   ],
   "source": [
    "df.equals(df_backup)"
   ]
  },
  {
   "cell_type": "code",
   "execution_count": null,
   "id": "db36336b-ca95-4235-a664-2eaa400a68be",
   "metadata": {},
   "outputs": [],
   "source": []
  }
 ],
 "metadata": {
  "kernelspec": {
   "display_name": "Python 3 (ipykernel)",
   "language": "python",
   "name": "python3"
  },
  "language_info": {
   "codemirror_mode": {
    "name": "ipython",
    "version": 3
   },
   "file_extension": ".py",
   "mimetype": "text/x-python",
   "name": "python",
   "nbconvert_exporter": "python",
   "pygments_lexer": "ipython3",
   "version": "3.9.7"
  }
 },
 "nbformat": 4,
 "nbformat_minor": 5
}
