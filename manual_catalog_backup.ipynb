{
 "cells": [
  {
   "cell_type": "markdown",
   "id": "3e7ed3f8-b4b4-447f-ba0c-19f19373f5db",
   "metadata": {},
   "source": [
    "# Manual catalog backup in GCS"
   ]
  },
  {
   "cell_type": "code",
   "execution_count": 5,
   "id": "523cd6ba-45aa-4372-b37c-f73f5e9629fb",
   "metadata": {},
   "outputs": [],
   "source": [
    "import pandas as pd\n",
    "import json\n",
    "import gcsfs\n",
    "import os\n",
    "\n",
    "with open('/home/jovyan/keys/google_cmip6_service.json') as token_file:\n",
    "    token = json.load(token_file)\n",
    "\n",
    "gcs = gcsfs.GCSFileSystem(token=token)\n",
    "\n",
    "df = pd.read_csv(\"https://cmip6.storage.googleapis.com/pangeo-cmip6.csv\")\n",
    "\n",
    "local_filename = 'local_catalog.csv'\n",
    "backup_filename = 'old_manual_backup_pangeo-cmip6.csv'\n",
    "# create local file\n",
    "df.to_csv(local_filename, index=False)\n",
    "# upload that to the cloud\n",
    "gcs.put_file(local_filename, f'cmip6/{backup_filename}')\n",
    "# remove local file\n",
    "os.remove(local_filename)"
   ]
  }
 ],
 "metadata": {
  "kernelspec": {
   "display_name": "Python 3 (ipykernel)",
   "language": "python",
   "name": "python3"
  },
  "language_info": {
   "codemirror_mode": {
    "name": "ipython",
    "version": 3
   },
   "file_extension": ".py",
   "mimetype": "text/x-python",
   "name": "python",
   "nbconvert_exporter": "python",
   "pygments_lexer": "ipython3",
   "version": "3.9.7"
  }
 },
 "nbformat": 4,
 "nbformat_minor": 5
}
